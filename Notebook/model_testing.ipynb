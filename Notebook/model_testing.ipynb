{
 "cells": [
  {
   "cell_type": "code",
   "execution_count": 1,
   "id": "d889d846-60b4-4a9b-a39a-3876124d6c4f",
   "metadata": {},
   "outputs": [
    {
     "name": "stderr",
     "output_type": "stream",
     "text": [
      "2025-05-25 14:18:29.859042: E external/local_xla/xla/stream_executor/cuda/cuda_fft.cc:477] Unable to register cuFFT factory: Attempting to register factory for plugin cuFFT when one has already been registered\n",
      "WARNING: All log messages before absl::InitializeLog() is called are written to STDERR\n",
      "E0000 00:00:1748182709.884449    2140 cuda_dnn.cc:8310] Unable to register cuDNN factory: Attempting to register factory for plugin cuDNN when one has already been registered\n",
      "E0000 00:00:1748182709.892320    2140 cuda_blas.cc:1418] Unable to register cuBLAS factory: Attempting to register factory for plugin cuBLAS when one has already been registered\n",
      "2025-05-25 14:18:29.921320: I tensorflow/core/platform/cpu_feature_guard.cc:210] This TensorFlow binary is optimized to use available CPU instructions in performance-critical operations.\n",
      "To enable the following instructions: AVX2 FMA, in other operations, rebuild TensorFlow with the appropriate compiler flags.\n"
     ]
    }
   ],
   "source": [
    "import tensorflow as tf\n",
    "from tensorflow.keras import layers, models"
   ]
  },
  {
   "cell_type": "code",
   "execution_count": 2,
   "id": "90d72ac6-b0eb-4a1c-8286-eca2eb2a6545",
   "metadata": {},
   "outputs": [],
   "source": [
    "from tensorflow.keras.layers import Dropout, BatchNormalization\n",
    "\n",
    "def build_cnn_lstm_model():\n",
    "    inputs = tf.keras.Input(shape=(24, 1))  # Shape: (timesteps, features)\n",
    "\n",
    "    # CNN part\n",
    "    x = layers.Conv1D(32, kernel_size=3, padding=\"same\", activation=\"relu\")(inputs)\n",
    "    x = layers.MaxPooling1D(pool_size=2)(x)\n",
    "\n",
    "    # LSTM part\n",
    "    x = layers.LSTM(64, return_sequences=True, activation=\"relu\")(x)\n",
    "    x = Dropout(0.2)(x)\n",
    "    x = BatchNormalization()(x)\n",
    "\n",
    "    x = layers.LSTM(128, return_sequences=False, activation=\"relu\")(x)  # Final LSTM layer\n",
    "    x = Dropout(0.2)(x)\n",
    "    x = BatchNormalization()(x)\n",
    "\n",
    "    # Dense layers\n",
    "    x = layers.Dense(256, activation=\"relu\")(x)\n",
    "    x = Dropout(0.2)(x)\n",
    "    x = BatchNormalization()(x)\n",
    "\n",
    "    x = layers.Dense(512, activation=\"relu\")(x)\n",
    "    outputs = layers.Dense(1)(x)  # Regression output (e.g., BPM)\n",
    "\n",
    "    model = tf.keras.Model(inputs, outputs)\n",
    "    return model\n"
   ]
  },
  {
   "cell_type": "code",
   "execution_count": 3,
   "id": "33410ce3-d954-46da-8104-b55b90973d69",
   "metadata": {},
   "outputs": [],
   "source": [
    "callback=tf.keras.callbacks.EarlyStopping(\n",
    "    monitor='val_loss',\n",
    "    min_delta=0,\n",
    "    patience=0,\n",
    "    verbose=0,\n",
    "    mode='auto',\n",
    "    baseline=None,\n",
    "    restore_best_weights=False,\n",
    "    start_from_epoch=0\n",
    ")"
   ]
  },
  {
   "cell_type": "code",
   "execution_count": 4,
   "id": "2221a308-ad63-4f14-b4b7-493e31941338",
   "metadata": {},
   "outputs": [
    {
     "name": "stdout",
     "output_type": "stream",
     "text": [
      "TensorFlow version: 2.18.0\n",
      "GPU Available: [PhysicalDevice(name='/physical_device:GPU:0', device_type='GPU')]\n"
     ]
    }
   ],
   "source": [
    "# Check TensorFlow version and GPU availability\n",
    "print(\"TensorFlow version:\", tf.__version__)\n",
    "print(\"GPU Available:\", tf.config.list_physical_devices('GPU'))"
   ]
  },
  {
   "cell_type": "code",
   "execution_count": 5,
   "id": "8f22fde8-ec93-4cb3-a1fd-5a19d71b3811",
   "metadata": {},
   "outputs": [
    {
     "name": "stderr",
     "output_type": "stream",
     "text": [
      "I0000 00:00:1748182714.122778    2140 gpu_device.cc:2022] Created device /job:localhost/replica:0/task:0/device:GPU:0 with 2248 MB memory:  -> device: 0, name: NVIDIA GeForce GTX 1650, pci bus id: 0000:01:00.0, compute capability: 7.5\n"
     ]
    }
   ],
   "source": [
    "model=build_cnn_lstm_model()\n",
    "# model1=build_cnn_lstm_model()"
   ]
  },
  {
   "cell_type": "code",
   "execution_count": 6,
   "id": "cfaad9be-7390-427b-be55-7fef96d35983",
   "metadata": {},
   "outputs": [],
   "source": [
    "import numpy as np\n",
    "import pandas as pd\n",
    "import os"
   ]
  },
  {
   "cell_type": "code",
   "execution_count": 7,
   "id": "795529ed-87de-42a4-a101-fc9b4b731782",
   "metadata": {},
   "outputs": [],
   "source": [
    "# Load the datasets\n",
    "X1 = np.load(\"input_media.npy\")   # Shape: (samples1, 24, 1)\n",
    "Y1 = np.load(\"out_media.npy\")     # Shape: (samples1, 24)\n",
    "X2 = np.load(\"input.npy\") # Shape: (samples2, 24, 1)\n",
    "Y2 = np.load(\"out.npy\")   # Shape: (samples2, 24)\n",
    "\n",
    "# Concatenate along the first axis (number of samples)\n",
    "X_combined = np.concatenate((X1, X2), axis=0)\n",
    "Y_combined = np.concatenate((Y1, Y2), axis=0)"
   ]
  },
  {
   "cell_type": "code",
   "execution_count": 9,
   "id": "b947dbb9-f0cb-463e-81c1-618793c3f2ad",
   "metadata": {
    "scrolled": true
   },
   "outputs": [
    {
     "data": {
      "text/plain": [
       "array([[[129.51707451],\n",
       "        [129.75986121],\n",
       "        [129.75986121],\n",
       "        ...,\n",
       "        [130.60593834],\n",
       "        [130.00177458],\n",
       "        [130.01250866]],\n",
       "\n",
       "       [[129.98844356],\n",
       "        [129.97351108],\n",
       "        [130.45717293],\n",
       "        ...,\n",
       "        [128.9816    ],\n",
       "        [128.2174466 ],\n",
       "        [127.99740305]],\n",
       "\n",
       "       [[127.97649758],\n",
       "        [128.05176593],\n",
       "        [128.16763331],\n",
       "        ...,\n",
       "        [128.49357484],\n",
       "        [127.99792244],\n",
       "        [128.56791369]],\n",
       "\n",
       "       ...,\n",
       "\n",
       "       [[102.29422963],\n",
       "        [101.78716716],\n",
       "        [101.78716716],\n",
       "        ...,\n",
       "        [100.57082101],\n",
       "        [100.57082101],\n",
       "        [ 99.99666251]],\n",
       "\n",
       "       [[ 99.99666251],\n",
       "        [ 99.24707409],\n",
       "        [ 99.24707409],\n",
       "        ...,\n",
       "        [ 97.53497031],\n",
       "        [ 98.18329085],\n",
       "        [ 98.18329085]],\n",
       "\n",
       "       [[ 98.18329085],\n",
       "        [ 97.99323596],\n",
       "        [ 97.99323596],\n",
       "        ...,\n",
       "        [ 99.94760233],\n",
       "        [ 99.84978095],\n",
       "        [ 99.84978095]]])"
      ]
     },
     "execution_count": 9,
     "metadata": {},
     "output_type": "execute_result"
    }
   ],
   "source": [
    "X_combined"
   ]
  },
  {
   "cell_type": "code",
   "execution_count": 10,
   "id": "a2b6119a-543e-4928-b60b-73263c03b7ba",
   "metadata": {},
   "outputs": [
    {
     "data": {
      "text/plain": [
       "array([[ 98],\n",
       "       [ 98],\n",
       "       [ 98],\n",
       "       ...,\n",
       "       [100],\n",
       "       [ 99],\n",
       "       [ 99]])"
      ]
     },
     "execution_count": 10,
     "metadata": {},
     "output_type": "execute_result"
    }
   ],
   "source": [
    "Y_combined"
   ]
  },
  {
   "cell_type": "code",
   "execution_count": 12,
   "id": "1215bb7f-d757-4f6c-9521-c07a60434f94",
   "metadata": {},
   "outputs": [],
   "source": [
    "model.compile(optimizer=\"adam\",metrics=[\"mae\"],loss=\"mae\")\n",
    "# model1.compile(optimizer=\"adam\",metrics=[\"mae\"],loss=\"mae\")"
   ]
  },
  {
   "cell_type": "code",
   "execution_count": 13,
   "id": "4969a48d-87a8-4b37-83a9-36630416ce07",
   "metadata": {
    "scrolled": true
   },
   "outputs": [
    {
     "name": "stdout",
     "output_type": "stream",
     "text": [
      "Epoch 1/200\n"
     ]
    },
    {
     "name": "stderr",
     "output_type": "stream",
     "text": [
      "WARNING: All log messages before absl::InitializeLog() is called are written to STDERR\n",
      "I0000 00:00:1748182761.310039    2210 service.cc:148] XLA service 0x7fae500cfe40 initialized for platform CUDA (this does not guarantee that XLA will be used). Devices:\n",
      "I0000 00:00:1748182761.310318    2210 service.cc:156]   StreamExecutor device (0): NVIDIA GeForce GTX 1650, Compute Capability 7.5\n",
      "2025-05-25 14:19:21.477329: I tensorflow/compiler/mlir/tensorflow/utils/dump_mlir_util.cc:268] disabling MLIR crash reproducer, set env var `MLIR_CRASH_REPRODUCER_DIRECTORY` to enable.\n",
      "I0000 00:00:1748182762.308726    2210 cuda_dnn.cc:529] Loaded cuDNN version 90300\n"
     ]
    },
    {
     "name": "stdout",
     "output_type": "stream",
     "text": [
      "\u001b[1m 5/95\u001b[0m \u001b[32m━\u001b[0m\u001b[37m━━━━━━━━━━━━━━━━━━━\u001b[0m \u001b[1m2s\u001b[0m 32ms/step - loss: 95.4816 - mae: 95.4816"
     ]
    },
    {
     "name": "stderr",
     "output_type": "stream",
     "text": [
      "I0000 00:00:1748182771.061888    2210 device_compiler.h:188] Compiled cluster using XLA!  This line is logged at most once for the lifetime of the process.\n"
     ]
    },
    {
     "name": "stdout",
     "output_type": "stream",
     "text": [
      "\u001b[1m95/95\u001b[0m \u001b[32m━━━━━━━━━━━━━━━━━━━━\u001b[0m\u001b[37m\u001b[0m \u001b[1m24s\u001b[0m 102ms/step - loss: 80.9505 - mae: 80.9505 - val_loss: 147.6571 - val_mae: 147.6571\n",
      "Epoch 2/200\n",
      "\u001b[1m95/95\u001b[0m \u001b[32m━━━━━━━━━━━━━━━━━━━━\u001b[0m\u001b[37m\u001b[0m \u001b[1m1s\u001b[0m 13ms/step - loss: 17.4005 - mae: 17.4005 - val_loss: 16.5829 - val_mae: 16.5829\n",
      "Epoch 3/200\n",
      "\u001b[1m95/95\u001b[0m \u001b[32m━━━━━━━━━━━━━━━━━━━━\u001b[0m\u001b[37m\u001b[0m \u001b[1m1s\u001b[0m 12ms/step - loss: 15.6528 - mae: 15.6528 - val_loss: 14.1943 - val_mae: 14.1943\n",
      "Epoch 4/200\n",
      "\u001b[1m95/95\u001b[0m \u001b[32m━━━━━━━━━━━━━━━━━━━━\u001b[0m\u001b[37m\u001b[0m \u001b[1m1s\u001b[0m 15ms/step - loss: 15.9648 - mae: 15.9648 - val_loss: 13.9922 - val_mae: 13.9922\n",
      "Epoch 5/200\n",
      "\u001b[1m95/95\u001b[0m \u001b[32m━━━━━━━━━━━━━━━━━━━━\u001b[0m\u001b[37m\u001b[0m \u001b[1m1s\u001b[0m 15ms/step - loss: 16.0691 - mae: 16.0691 - val_loss: 15.7440 - val_mae: 15.7440\n"
     ]
    },
    {
     "data": {
      "text/plain": [
       "<keras.src.callbacks.history.History at 0x7faf2ed875e0>"
      ]
     },
     "execution_count": 13,
     "metadata": {},
     "output_type": "execute_result"
    }
   ],
   "source": [
    "model.fit(X_combined,Y_combined,epochs=200,callbacks=callback,validation_split=0.3)\n",
    "# model1.fit(X,Y,epochs=200,callbacks=callback,validation_split=0.2)"
   ]
  },
  {
   "cell_type": "code",
   "execution_count": null,
   "id": "9154fbd1-bd09-48e7-81dd-575349c63e4b",
   "metadata": {},
   "outputs": [],
   "source": [
    "X.shape"
   ]
  },
  {
   "cell_type": "code",
   "execution_count": null,
   "id": "d4b8add4-d661-4438-a862-62aed134c6d5",
   "metadata": {},
   "outputs": [],
   "source": [
    "Y"
   ]
  },
  {
   "cell_type": "code",
   "execution_count": null,
   "id": "fd6d031a-f8c7-44d0-89c0-46f4bce353e4",
   "metadata": {},
   "outputs": [],
   "source": [
    "# model.save(\"bpm_model_media.keras\")"
   ]
  },
  {
   "cell_type": "code",
   "execution_count": null,
   "id": "1aab781d-cc66-4bad-93c9-d5e9a3afdaf5",
   "metadata": {},
   "outputs": [],
   "source": []
  }
 ],
 "metadata": {
  "kernelspec": {
   "display_name": "Python 3 (ipykernel)",
   "language": "python",
   "name": "python3"
  },
  "language_info": {
   "codemirror_mode": {
    "name": "ipython",
    "version": 3
   },
   "file_extension": ".py",
   "mimetype": "text/x-python",
   "name": "python",
   "nbconvert_exporter": "python",
   "pygments_lexer": "ipython3",
   "version": "3.9.21"
  }
 },
 "nbformat": 4,
 "nbformat_minor": 5
}
